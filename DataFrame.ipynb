{
 "cells": [
  {
   "cell_type": "code",
   "execution_count": null,
   "metadata": {},
   "outputs": [],
   "source": [
    "import pandas as pd\n",
    "from selenium import webdriver\n",
    "from selenium.webdriver.common.keys import Keys\n",
    "from selenium.webdriver.common.by import By\n",
    "from bs4 import BeautifulSoup\n",
    "import time\n",
    "import urllib.request\n",
    "import os\n",
    "import chromedriver_autoinstaller\n",
    "from bs4 import BeautifulSoup\n",
    "import requests\n",
    "from functools import reduce\n",
    "import numpy as np"
   ]
  },
  {
   "attachments": {},
   "cell_type": "markdown",
   "metadata": {},
   "source": [
    "최초 요청받은 내용은 아래와 같음\n",
    "\n",
    "* 컬럼 결합 전처리\n",
    "\n",
    "Gin\n",
    "\n",
    "Liqueur\tLiquor\tLiquer\tBitters\tBitter\tSambuca\n",
    "\n",
    "Juice\tBeverage\tFruit\tFruit Juice\n",
    "\n",
    "Cordial\tTea\tWater\tCoffee\n",
    "\n",
    "Brandy\tSchnapps\n",
    "\n",
    "Rum\n",
    "\n",
    "Whisky\tWhiskey\n",
    "\n",
    "Vodka\n",
    "\n",
    "Wine\tFortified wine\tFortified Wine\tAperitif\taperitif\n",
    "\n",
    "Beer\tStout\n",
    "\n",
    "Soft Drink\tSoda\tCider\tCola\n",
    "\n",
    "Flower\tHerb\tSpice\t\n",
    "\n",
    "Garnish\n",
    "\n",
    "Milk\n",
    "\n",
    "Cream\n",
    "\n",
    "Syrup\n",
    "\n",
    "Mineral - Rimming으로 head 변경\n",
    "\n",
    "Spirit\t- 여기 내용 있는거 드랍\n",
    "\n",
    "Mixer\tSauce\tMix\t\t- 컬럼 드랍\n",
    "\n",
    "별도 요청 없을 경우 좌측에 해당하는 내용으로 더해서 묶어주면 됨\n",
    "\n",
    "* 단위 통일을 위한 전처리 - 원본 api에서 불러온 데이터 값이 난잡한 관계로 엑셀 작업으로 수동 처리\n",
    "\n",
    "unit convert\n",
    "\n",
    "1shot = 1.5 oz\n",
    "1jiggers = 1.5 oz\n",
    "\n",
    "1part = 1 oz\n",
    "\n",
    "1cl = 0.338 oz\n",
    "1ml = 0.338 oz\n",
    "\n",
    "1tsp = 0.167 oz\n",
    "1tbsp = 0.5 oz\n",
    "\n",
    "\n",
    "1slice = 1oz\n",
    "1small bottle = 10oz (300ml)"
   ]
  },
  {
   "cell_type": "code",
   "execution_count": null,
   "metadata": {},
   "outputs": [],
   "source": [
    "# final = []\n",
    "# for i in range(len(data['drinks'])):\n",
    "#     d1 = data['drinks'][i]\n",
    "#     res = [d1['strDrink']]\n",
    "#     info = {}\n",
    "#     for i in list(map(lambda x: x, range(1,16))):\n",
    "#         try:\n",
    "#             # ing_name = d1['strIngredient'+str(i)]\n",
    "#             ing_type = requests.get(f\"https://www.thecocktaildb.com/api/json/v1/1/search.php?i={d1['strIngredient' + str(i)]}\").json()['ingredients'][0]['strType']\n",
    "#             ing_vol = d1['strMeasure'+str(i)]\n",
    "#             info[ing_type]=ing_vol\n",
    "#         except TypeError:\n",
    "#             pass\n",
    "#     res.append(info)\n",
    "#     final.append(res)"
   ]
  },
  {
   "attachments": {},
   "cell_type": "markdown",
   "metadata": {},
   "source": [
    "주조기법의 경우 문장 형태로 들어가있어 동사의 활용 형태를 확인 후 컬럼 제작"
   ]
  },
  {
   "cell_type": "code",
   "execution_count": null,
   "metadata": {},
   "outputs": [],
   "source": [
    "import string\n",
    "alphabet = list(string.ascii_lowercase)\n",
    "num = list(map(str,list(map(lambda x:x,range(0,10)))))\n",
    "search_index = alphabet + num\n",
    "\n",
    "inst_list = [['Shake','shake','Shaking','shaking','Shaked','shaked','shaker','Shaker'],\n",
    "['Stir','stir','stirr','Stired','stired','Stirring','stirring'],\n",
    "['Float','float','Floating','floating','Floated','floated'],\n",
    "['Frost','frost','Frosting','frosting','Frosted','frosted','Frozen','frozen'],\n",
    "['Blend','blend','Blending','blending','Blended','blended'],\n",
    "['Build','build','Building','building','Built','built',]]"
   ]
  },
  {
   "cell_type": "code",
   "execution_count": null,
   "metadata": {},
   "outputs": [],
   "source": [
    "# final = {\"name\":[], \"info\":[]}\n",
    "# for k in search_index:\n",
    "#     response = requests.get(f\"https://www.thecocktaildb.com/api/json/v1/1/search.php?f={k}\")\n",
    "#     data = response.json()\n",
    "#     try:\n",
    "#         for j in range(len(data['drinks'])):\n",
    "#             d1 = data['drinks'][j]\n",
    "#             res = [d1['strDrink']]\n",
    "#             info = {}\n",
    "#             for i in list(map(lambda x: x, range(1,16))):\n",
    "#                 try:\n",
    "#                     # ing_name = d1['strIngredient'+str(i)]\n",
    "#                     ing_type = requests.get(f\"https://www.thecocktaildb.com/api/json/v1/1/search.php?i={d1['strIngredient' + str(i)]}\").json()['ingredients'][0]['strType']\n",
    "#                     ing_vol = d1['strMeasure'+str(i)]\n",
    "#                     info[ing_type]=ing_vol\n",
    "#                 except TypeError:\n",
    "#                     pass\n",
    "#             res.append(info)\n",
    "#             final[\"name\"].append(res[0])\n",
    "#             final[\"info\"].append(res[1])\n",
    "#     except TypeError:\n",
    "#         pass"
   ]
  },
  {
   "attachments": {},
   "cell_type": "markdown",
   "metadata": {},
   "source": [
    "API 호출을 위해 알파벳, 숫자를 하나로 더해 search_index 변수에 할당"
   ]
  },
  {
   "cell_type": "code",
   "execution_count": null,
   "metadata": {},
   "outputs": [],
   "source": [
    "temp_index=['a','b']\n",
    "search_index = alphabet + num"
   ]
  },
  {
   "cell_type": "code",
   "execution_count": null,
   "metadata": {},
   "outputs": [],
   "source": [
    "ingredients_info = {\"name\":[], \"info\":[]}\n",
    "instructions = {\"name\":[],\"Instuction\":[],\"Glass\":[]}\n",
    "for t_index in search_index:\n",
    "    response = requests.get(f\"https://www.thecocktaildb.com/api/json/v1/1/search.php?f={t_index}\")\n",
    "    data = response.json()\n",
    "\n",
    "    try:\n",
    "        for j in range(len(data['drinks'])):\n",
    "            d1 = data['drinks'][j]\n",
    "            ing_res = [d1['strDrink']]\n",
    "            info = {}\n",
    "            for i in list(map(lambda x: x, range(1,16))):\n",
    "                try:\n",
    "                    # ing_name = d1['strIngredient'+str(i)]\n",
    "                    ing_type = requests.get(f\"https://www.thecocktaildb.com/api/json/v1/1/search.php?i={d1['strIngredient' + str(i)]}\").json()['ingredients'][0]['strType']\n",
    "                    ing_vol = d1['strMeasure'+str(i)]\n",
    "                    info[ing_type]=ing_vol\n",
    "                except TypeError:\n",
    "                    pass\n",
    "            ing_res.append(info)\n",
    "            ingredients_info[\"name\"].append(ing_res[0])\n",
    "            ingredients_info[\"info\"].append(ing_res[1])\n",
    "\n",
    "\n",
    "\n",
    "            glass = data['drinks'][j]['strGlass']\n",
    "            inst_glass_res = [d1['strDrink']]\n",
    "            temp={}\n",
    "            for text in range(len(inst_list)):\n",
    "                if [x for item in inst_list[text] for x in data['drinks'][j]['strInstructions'].split() if item in x] != []:\n",
    "                    temp[inst_list[text][0]]=1\n",
    "                else:\n",
    "                    temp[inst_list[text][0]]=0\n",
    "            inst_glass_res.append(temp)\n",
    "            inst_glass_res.append(glass)\n",
    "            instructions[\"name\"].append(inst_glass_res[0])\n",
    "            instructions[\"Instuction\"].append(inst_glass_res[1])\n",
    "            instructions[\"Glass\"].append(inst_glass_res[2])\n",
    "\n",
    "\n",
    "    except TypeError:\n",
    "        pass"
   ]
  },
  {
   "attachments": {},
   "cell_type": "markdown",
   "metadata": {},
   "source": [
    "Instruction의 합을 컬럼으로 제작. 해당 값이 0 또는 2 이상일 경우 검토 필요"
   ]
  },
  {
   "cell_type": "code",
   "execution_count": null,
   "metadata": {},
   "outputs": [],
   "source": [
    "df = pd.DataFrame(ingredients_info)\n",
    "objs = [df, pd.DataFrame(df['info'].tolist()).iloc[:, :100]]\n",
    "df2 = pd.concat(objs, axis=1).drop('info', axis=1)\n",
    "\n",
    "inst_df = pd.DataFrame(instructions)\n",
    "inst_df.head()\n",
    "objs = [inst_df, pd.DataFrame(inst_df['Instuction'].tolist()).iloc[:, :10]]\n",
    "df3 = pd.concat(objs, axis=1).drop('Instuction', axis=1)\n",
    "df3['Inst_sum'] = df3['Shake']+ df3['Stir']+ df3['Float']+ df3['Frost']+ df3['Blend']+ df3['Build']\n",
    "\n",
    "raw_final = df3.merge(df2,how='inner',on='name')"
   ]
  },
  {
   "attachments": {},
   "cell_type": "markdown",
   "metadata": {},
   "source": [
    "위에서 요청한 컬럼 결합 전처리 과정\n",
    "\n",
    "재료 포함여부 특성상 null 값이 대부분이라 fillna('')로 1차적으로 걸러준 뒤 더해준다 (해당 과정을 수행하지 않을 경우 결합이 의도대로 되지 않는다)"
   ]
  },
  {
   "cell_type": "code",
   "execution_count": null,
   "metadata": {},
   "outputs": [],
   "source": [
    "final_df_name = raw_final['name'].fillna('').map(str)\n",
    "final_df_Gin = raw_final['Gin'].fillna('').map(str)\n",
    "final_df_Liqueur = raw_final['Liqueur'].fillna('').map(str) +  raw_final['Liquor'].fillna('').map(str) + raw_final['Liquer'].fillna('').map(str) + raw_final['Bitters'].fillna('').map(str) + raw_final['Bitter'].fillna('').map(str)+  raw_final['Sambuca'].fillna('').map(str)\n",
    "final_df_Juice = raw_final['Juice'].fillna('').map(str) + raw_final['Beverage'].fillna('').map(str) +raw_final['Fruit'].fillna('').map(str) +raw_final['Fruit Juice'].fillna('').map(str)\n",
    "final_df_Cordial = raw_final['Cordial'].fillna('').map(str) + raw_final['Tea'].fillna('').map(str) +raw_final['Water'].fillna('').map(str) +raw_final['Coffee'].fillna('').map(str)\n",
    "final_df_Brandy = raw_final['Brandy'].fillna('').map(str) + raw_final['Schnapps'].fillna('').map(str)\n",
    "final_df_Rum = raw_final['Rum'].fillna('').map(str)\n",
    "final_df_Whisky = raw_final['Whisky'].fillna('').map(str) + raw_final['Whiskey'].fillna('').map(str)\n",
    "final_df_Vodka = raw_final['Vodka'].fillna('').map(str)\n",
    "final_df_Wine = raw_final['Wine'].fillna('').map(str) + raw_final['Fortified wine'].fillna('').map(str) +raw_final['Fortified Wine'].fillna('').map(str) +raw_final['Aperitif'].fillna('').map(str)+raw_final['aperitif'].fillna('').map(str)\n",
    "final_df_Beer = raw_final['Beer'].fillna('').map(str) +  raw_final['Stout'].fillna('').map(str)\n",
    "final_df_SoftDrink = raw_final['Soft Drink'].fillna('').map(str) +  raw_final['Soda'].fillna('').map(str) +  raw_final['Cider'].fillna('').map(str) +  raw_final['Cola'].fillna('').map(str)\n",
    "final_df_Flower = raw_final['Flower'].fillna('').map(str) +  raw_final['Herb'].fillna('').map(str) + raw_final['Spice'].fillna('').map(str)\n",
    "final_df_Garnish = raw_final['Garnish'].fillna('').map(str)\n",
    "final_df_Milk = raw_final['Milk'].fillna('').map(str)\n",
    "final_df_Cream = raw_final['Cream'].fillna('').map(str)\n",
    "final_df_Syrup = raw_final['Syrup'].fillna('').map(str)\n",
    "final_df_Rimming = raw_final['Mineral'].fillna('').map(str)\n",
    "final_df_Spirit = raw_final['Spirit'].fillna('').map(str)\n",
    "\n",
    "df4_list =  [final_df_name,final_df_Gin,final_df_Liqueur,final_df_Juice,final_df_Cordial,final_df_Brandy,final_df_Rum,final_df_Whisky,final_df_Vodka,final_df_Wine,final_df_Beer,final_df_SoftDrink,final_df_Flower,final_df_Garnish,final_df_Milk,final_df_Cream,final_df_Syrup,final_df_Rimming,final_df_Spirit]"
   ]
  },
  {
   "cell_type": "code",
   "execution_count": null,
   "metadata": {},
   "outputs": [],
   "source": [
    "df4_data = {'name':df4_list[0], 'Gin':df4_list[1],'Liqueur':df4_list[2],'Juice':df4_list[3],\n",
    "'Cordial':df4_list[4],'Brandy':df4_list[5],'Rum':df4_list[6],'Whisky':df4_list[7],'Vodka':df4_list[8],\n",
    "'Wine':df4_list[9],'Beer':df4_list[10],'Soft Drink':df4_list[11],'Flower':df4_list[12],'Garnish':df4_list[13],\n",
    "'Milk':df4_list[14],'Cream':df4_list[15],'Syrup':df4_list[16],'Mineral':df4_list[17], 'Spirit':df4_list[18]}"
   ]
  },
  {
   "attachments": {},
   "cell_type": "markdown",
   "metadata": {},
   "source": [
    "공백인 결측치를 연산이 가능하도록 0으로 대치한다"
   ]
  },
  {
   "cell_type": "code",
   "execution_count": null,
   "metadata": {},
   "outputs": [],
   "source": [
    "df4 = pd.DataFrame(data=df4_data).replace('',0)"
   ]
  },
  {
   "cell_type": "code",
   "execution_count": null,
   "metadata": {},
   "outputs": [],
   "source": [
    "df4"
   ]
  },
  {
   "cell_type": "code",
   "execution_count": null,
   "metadata": {},
   "outputs": [],
   "source": [
    "modified_final = df3.merge(df4,how='inner',on='name')\n",
    "modified_final.head()"
   ]
  },
  {
   "attachments": {},
   "cell_type": "markdown",
   "metadata": {},
   "source": [
    "요청받은 대로 Spirit을 drop 후 초안 csv 생성"
   ]
  },
  {
   "cell_type": "code",
   "execution_count": null,
   "metadata": {},
   "outputs": [],
   "source": [
    "drop_idx = modified_final[modified_final['Spirit']!=0].index\n",
    "modified_final.drop(drop_idx, inplace=True)"
   ]
  },
  {
   "cell_type": "code",
   "execution_count": null,
   "metadata": {},
   "outputs": [],
   "source": [
    "drop_modified_final = modified_final.reset_index()\n",
    "drop_modified_final"
   ]
  },
  {
   "cell_type": "code",
   "execution_count": null,
   "metadata": {},
   "outputs": [],
   "source": [
    "modified_final.to_csv('cktl_modified.csv',sep=',',index=True)"
   ]
  },
  {
   "cell_type": "code",
   "execution_count": null,
   "metadata": {},
   "outputs": [],
   "source": [
    "raw_final.to_csv('cktl_raw.csv',sep=',',index=True)"
   ]
  },
  {
   "cell_type": "code",
   "execution_count": null,
   "metadata": {},
   "outputs": [],
   "source": [
    "drop_modified_final.to_csv('cktl_modified_dropsprit.csv',sep=',',index=True)"
   ]
  },
  {
   "cell_type": "code",
   "execution_count": null,
   "metadata": {},
   "outputs": [],
   "source": [
    "# df4_list_01 = final_df_name\n",
    "# df4_list_02 = final_df_Gin\n",
    "# df4_list_03 = final_df_Liqueur\n",
    "# df4_list_04 = final_df_Juice\n",
    "# df4_list_05 = final_df_Cordial\n",
    "# df4_list_06 = final_df_Brandy\n",
    "# df4_list_07 = final_df_Rum\n",
    "# df4_list_08 = final_df_Whisky\n",
    "# df4_list_09 = final_df_Vodka\n",
    "# df4_list_10 = final_df_Wine\n",
    "# df4_list_11 = final_df_Beer\n",
    "# df4_list_12 = final_df_SoftDrink\n",
    "# df4_list_13 = final_df_Flower\n",
    "# df4_list_14 = final_df_Garnish\n",
    "# df4_list_15 = final_df_Milk\n",
    "# df4_list_16 = final_df_Cream\n",
    "# df4_list_17 = final_df_Syrup\n",
    "# df4_list_18 = final_df_Rimming"
   ]
  },
  {
   "cell_type": "code",
   "execution_count": null,
   "metadata": {},
   "outputs": [],
   "source": [
    "ing_only = pd.read_csv('cktl_modified_dropsprit.csv',encoding='cp949')"
   ]
  },
  {
   "attachments": {},
   "cell_type": "markdown",
   "metadata": {},
   "source": [
    "추가적으로 요청받은 내용\n",
    "\n",
    "각 칵테일 별 재료만 추출해서 데이터프레임 제작"
   ]
  },
  {
   "cell_type": "code",
   "execution_count": null,
   "metadata": {},
   "outputs": [],
   "source": [
    "# 필요없는 부분 drop 후 melt로 형태 변환\n",
    "ing_only_df = ing_only.drop(['Glass','Shake','Stir','Float','Frost','Blend','Build','Inst_sum'],axis=1).melt(id_vars=[\"index\", \"name\"], \n",
    "        var_name=\"Ingredient\", \n",
    "        value_name=\"Volume\")"
   ]
  },
  {
   "cell_type": "code",
   "execution_count": null,
   "metadata": {},
   "outputs": [],
   "source": [
    "drop_idx2a = ing_only_df[ing_only_df['Volume']== 0].index\n",
    "drop_idx2b = ing_only_df[ing_only_df['Volume']== \"0\"].index\n",
    "drop_idx2 = drop_idx2a.append(drop_idx2b)\n",
    "ing_only_df.drop(drop_idx2, inplace=True)"
   ]
  },
  {
   "cell_type": "code",
   "execution_count": null,
   "metadata": {},
   "outputs": [],
   "source": [
    "ing_only_df"
   ]
  },
  {
   "cell_type": "code",
   "execution_count": 66,
   "metadata": {},
   "outputs": [],
   "source": [
    "ing_only_df.to_csv('cktl_ing_only.csv',sep=',',index=True)\n"
   ]
  },
  {
   "attachments": {},
   "cell_type": "markdown",
   "metadata": {},
   "source": [
    "추가적으로 요청받은 dataframe - 알콜 포함여부\n",
    "\n",
    "별도 지표가 없어 각종 베이스 기반 포함여부를 바탕으로 데이터프레임 제작"
   ]
  },
  {
   "cell_type": "code",
   "execution_count": 67,
   "metadata": {},
   "outputs": [],
   "source": [
    "alc_df = pd.read_csv('cktl_modified_dropsprit.csv',encoding='cp949')"
   ]
  },
  {
   "cell_type": "code",
   "execution_count": 68,
   "metadata": {},
   "outputs": [
    {
     "data": {
      "text/plain": [
       "0      0.0\n",
       "1      0.0\n",
       "2      0.0\n",
       "3      0.0\n",
       "4      0.0\n",
       "      ... \n",
       "386    0.0\n",
       "387    0.0\n",
       "388    0.0\n",
       "389    0.0\n",
       "390    0.0\n",
       "Name: Beer, Length: 391, dtype: float64"
      ]
     },
     "execution_count": 68,
     "metadata": {},
     "output_type": "execute_result"
    }
   ],
   "source": [
    "alc_df['Gin'].astype('float')\n",
    "alc_df['Liqueur'].astype('float')\n",
    "alc_df['Brandy'].astype('float')\n",
    "alc_df['Rum'].astype('float')\n",
    "alc_df['Whisky'].astype('float')\n",
    "alc_df['Wine'].astype('float')\n",
    "alc_df['Vodka'].astype('float')\n",
    "alc_df['Beer'].astype('float')\n"
   ]
  },
  {
   "cell_type": "code",
   "execution_count": 69,
   "metadata": {},
   "outputs": [],
   "source": [
    "# np.where로 다중조건 탐색\n",
    "alc_df['Alcoholic'] = np.where(\n",
    "(alc_df['Gin']!= 0)|\n",
    "(alc_df['Brandy']!= 0)|\n",
    "(alc_df['Rum']!= 0)|\n",
    "(alc_df['Whisky']!= 0)|\n",
    "(alc_df['Wine']!= 0)|\n",
    "(alc_df['Vodka']!= 0)|\n",
    "(alc_df['Beer']!= 0), 1,0)"
   ]
  },
  {
   "cell_type": "code",
   "execution_count": 71,
   "metadata": {},
   "outputs": [],
   "source": [
    "alc_df.head()\n",
    "alc_df.to_csv('cktl_Alcoholic_appended.csv',sep=',')"
   ]
  },
  {
   "cell_type": "code",
   "execution_count": null,
   "metadata": {},
   "outputs": [],
   "source": [
    "drop_idx2a = alc_df[alc_df['Volume']== 0, alc_df['Volume']==\"0\"].index\n",
    "drop_idx2b = alc_df[alc_df['Volume']== \"0\"].index"
   ]
  }
 ],
 "metadata": {
  "kernelspec": {
   "display_name": "Python 3",
   "language": "python",
   "name": "python3"
  },
  "language_info": {
   "codemirror_mode": {
    "name": "ipython",
    "version": 3
   },
   "file_extension": ".py",
   "mimetype": "text/x-python",
   "name": "python",
   "nbconvert_exporter": "python",
   "pygments_lexer": "ipython3",
   "version": "3.10.6"
  },
  "orig_nbformat": 4,
  "vscode": {
   "interpreter": {
    "hash": "d3e10ef16274dd72e574b8fa73b58450b957d8421a2901baded3cca26fcf5dda"
   }
  }
 },
 "nbformat": 4,
 "nbformat_minor": 2
}
