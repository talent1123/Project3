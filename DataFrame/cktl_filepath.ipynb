{
 "cells": [
  {
   "cell_type": "code",
   "execution_count": 8,
   "metadata": {},
   "outputs": [],
   "source": [
    "import pandas as pd\n",
    "from functools import reduce\n",
    "import numpy as np\n",
    "import os\n",
    "import pathlib\n",
    "from os import listdir\n",
    "from os.path import isfile, join"
   ]
  },
  {
   "attachments": {},
   "cell_type": "markdown",
   "metadata": {},
   "source": [
    "이름, 원본 상대 경로, 라벨링경로"
   ]
  },
  {
   "cell_type": "code",
   "execution_count": 19,
   "metadata": {},
   "outputs": [
    {
     "name": "stdout",
     "output_type": "stream",
     "text": [
      "c:\\Users\\Luna\\Desktop\\data_de\\CNN_fina_data\n"
     ]
    }
   ],
   "source": [
    "from pathlib import Path\n",
    "print(Path.cwd())"
   ]
  },
  {
   "cell_type": "code",
   "execution_count": 36,
   "metadata": {},
   "outputs": [
    {
     "data": {
      "text/plain": [
       "'Alexander (cocktail)'"
      ]
     },
     "execution_count": 36,
     "metadata": {},
     "output_type": "execute_result"
    }
   ],
   "source": [
    "pwd = Path.cwd()\n",
    "listdir(Path.cwd())[0]"
   ]
  },
  {
   "cell_type": "code",
   "execution_count": 123,
   "metadata": {},
   "outputs": [
    {
     "data": {
      "text/plain": [
       "31"
      ]
     },
     "execution_count": 123,
     "metadata": {},
     "output_type": "execute_result"
    }
   ],
   "source": [
    "len(listdir(Path.cwd()))"
   ]
  },
  {
   "cell_type": "code",
   "execution_count": 125,
   "metadata": {},
   "outputs": [],
   "source": [
    "temp_jpg = {\"name\": [], \"jpg_path\": [] }\n",
    "temp_txt = {\"name\": [], \"txt_path\": [] }\n",
    "for j in range(len(listdir(Path.cwd()))):\n",
    "    try:\n",
    "        folder_dir = listdir(Path.cwd())[j]\n",
    "        file_dir = listdir(listdir(Path.cwd())[j])\n",
    "        s2 = list(map(lambda x:\"./\"+ folder_dir + \"/\" + x , file_dir))\n",
    "        for i in range(len(s2)):\n",
    "            if s2[i][-3:] == \"jpg\":\n",
    "                temp_jpg[\"name\"].append(file_dir[i][:-4])\n",
    "                temp_jpg[\"jpg_path\"].append(s2[i])\n",
    "            if s2[i][-3:] == \"txt\":\n",
    "                temp_txt[\"name\"].append(file_dir[i][:-4])\n",
    "                temp_txt[\"txt_path\"].append(s2[i])\n",
    "    except NotADirectoryError:\n",
    "        pass"
   ]
  },
  {
   "cell_type": "code",
   "execution_count": 127,
   "metadata": {},
   "outputs": [
    {
     "name": "stdout",
     "output_type": "stream",
     "text": [
      "./Alexander (cocktail)/Alexander1.jpg\n",
      "Alexander1\n",
      "2482\n",
      "2482\n"
     ]
    }
   ],
   "source": [
    "print((temp_jpg[\"jpg_path\"])[0])\n",
    "print((temp_jpg[\"name\"])[0])\n",
    "\n",
    "print(len(temp_jpg[\"jpg_path\"]))\n",
    "print(len(temp_jpg[\"name\"]))"
   ]
  },
  {
   "cell_type": "code",
   "execution_count": 128,
   "metadata": {},
   "outputs": [],
   "source": [
    "df1 = pd.DataFrame(temp_jpg)\n",
    "df2 = pd.DataFrame(temp_txt)"
   ]
  },
  {
   "cell_type": "code",
   "execution_count": 130,
   "metadata": {},
   "outputs": [],
   "source": [
    "df0 = df1.merge(df2,how='inner',on='name')"
   ]
  },
  {
   "cell_type": "code",
   "execution_count": 122,
   "metadata": {},
   "outputs": [
    {
     "data": {
      "text/html": [
       "<div>\n",
       "<style scoped>\n",
       "    .dataframe tbody tr th:only-of-type {\n",
       "        vertical-align: middle;\n",
       "    }\n",
       "\n",
       "    .dataframe tbody tr th {\n",
       "        vertical-align: top;\n",
       "    }\n",
       "\n",
       "    .dataframe thead th {\n",
       "        text-align: right;\n",
       "    }\n",
       "</style>\n",
       "<table border=\"1\" class=\"dataframe\">\n",
       "  <thead>\n",
       "    <tr style=\"text-align: right;\">\n",
       "      <th></th>\n",
       "      <th>name</th>\n",
       "      <th>jpg_path</th>\n",
       "      <th>txt_path</th>\n",
       "    </tr>\n",
       "  </thead>\n",
       "  <tbody>\n",
       "    <tr>\n",
       "      <th>0</th>\n",
       "      <td>Alexander1</td>\n",
       "      <td>./Alexander (cocktail)/Alexander1.jpg</td>\n",
       "      <td>./Alexander (cocktail)/Alexander1.txt</td>\n",
       "    </tr>\n",
       "    <tr>\n",
       "      <th>1</th>\n",
       "      <td>Alexander10</td>\n",
       "      <td>./Alexander (cocktail)/Alexander10.jpg</td>\n",
       "      <td>./Alexander (cocktail)/Alexander10.txt</td>\n",
       "    </tr>\n",
       "    <tr>\n",
       "      <th>2</th>\n",
       "      <td>Alexander100</td>\n",
       "      <td>./Alexander (cocktail)/Alexander100.jpg</td>\n",
       "      <td>./Alexander (cocktail)/Alexander100.txt</td>\n",
       "    </tr>\n",
       "    <tr>\n",
       "      <th>3</th>\n",
       "      <td>Alexander101</td>\n",
       "      <td>./Alexander (cocktail)/Alexander101.jpg</td>\n",
       "      <td>./Alexander (cocktail)/Alexander101.txt</td>\n",
       "    </tr>\n",
       "    <tr>\n",
       "      <th>4</th>\n",
       "      <td>Alexander102</td>\n",
       "      <td>./Alexander (cocktail)/Alexander102.jpg</td>\n",
       "      <td>./Alexander (cocktail)/Alexander102.txt</td>\n",
       "    </tr>\n",
       "  </tbody>\n",
       "</table>\n",
       "</div>"
      ],
      "text/plain": [
       "           name                                 jpg_path  \\\n",
       "0    Alexander1    ./Alexander (cocktail)/Alexander1.jpg   \n",
       "1   Alexander10   ./Alexander (cocktail)/Alexander10.jpg   \n",
       "2  Alexander100  ./Alexander (cocktail)/Alexander100.jpg   \n",
       "3  Alexander101  ./Alexander (cocktail)/Alexander101.jpg   \n",
       "4  Alexander102  ./Alexander (cocktail)/Alexander102.jpg   \n",
       "\n",
       "                                  txt_path  \n",
       "0    ./Alexander (cocktail)/Alexander1.txt  \n",
       "1   ./Alexander (cocktail)/Alexander10.txt  \n",
       "2  ./Alexander (cocktail)/Alexander100.txt  \n",
       "3  ./Alexander (cocktail)/Alexander101.txt  \n",
       "4  ./Alexander (cocktail)/Alexander102.txt  "
      ]
     },
     "execution_count": 122,
     "metadata": {},
     "output_type": "execute_result"
    }
   ],
   "source": [
    "df0.head()"
   ]
  },
  {
   "cell_type": "code",
   "execution_count": 131,
   "metadata": {},
   "outputs": [],
   "source": [
    "df0.to_csv('cktl_path.csv', sep=',', index=True)"
   ]
  }
 ],
 "metadata": {
  "kernelspec": {
   "display_name": "Python 3",
   "language": "python",
   "name": "python3"
  },
  "language_info": {
   "codemirror_mode": {
    "name": "ipython",
    "version": 3
   },
   "file_extension": ".py",
   "mimetype": "text/x-python",
   "name": "python",
   "nbconvert_exporter": "python",
   "pygments_lexer": "ipython3",
   "version": "3.10.6 (tags/v3.10.6:9c7b4bd, Aug  1 2022, 21:53:49) [MSC v.1932 64 bit (AMD64)]"
  },
  "orig_nbformat": 4,
  "vscode": {
   "interpreter": {
    "hash": "d3e10ef16274dd72e574b8fa73b58450b957d8421a2901baded3cca26fcf5dda"
   }
  }
 },
 "nbformat": 4,
 "nbformat_minor": 2
}
