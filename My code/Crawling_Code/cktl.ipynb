{
 "cells": [
  {
   "cell_type": "code",
   "execution_count": null,
   "metadata": {},
   "outputs": [],
   "source": [
    "import pandas as pd\n",
    "from selenium import webdriver\n",
    "from selenium.webdriver.common.keys import Keys\n",
    "from selenium.webdriver.common.by import By\n",
    "import time\n",
    "import urllib.request\n",
    "import os\n",
    "import chromedriver_autoinstaller"
   ]
  },
  {
   "cell_type": "code",
   "execution_count": null,
   "metadata": {},
   "outputs": [],
   "source": [
    "df = pd.read_csv('cocktail.csv')\n",
    "\n",
    "temp=df['drink'].values.tolist()\n",
    "t1 = list(set(temp))\n",
    "\n",
    "ck_list = []\n",
    "for i in range(len(t1)):\n",
    "    ck_list.append(t1[i] + \" cocktail\")"
   ]
  },
  {
   "cell_type": "code",
   "execution_count": null,
   "metadata": {},
   "outputs": [],
   "source": [
    "def createDirectory(directory):\n",
    "    try:\n",
    "        if not os.path.exists(directory):\n",
    "            os.makedirs(directory)\n",
    "    except OSError:\n",
    "        print(\"Error: Failed to create the directory.\")"
   ]
  },
  {
   "cell_type": "code",
   "execution_count": null,
   "metadata": {},
   "outputs": [],
   "source": [
    "chromedriver_autoinstaller.install()\n"
   ]
  },
  {
   "cell_type": "code",
   "execution_count": null,
   "metadata": {},
   "outputs": [],
   "source": [
    "def crawling_img(name):\n",
    "    driver = webdriver.Chrome()\n",
    "    driver.get(\"https://www.google.co.kr/imghp?hl=ko&tab=wi&authuser=0&ogbl\")\n",
    "    elem = driver.find_element(\"name\", \"q\")\n",
    "    elem.send_keys(name)\n",
    "    elem.send_keys(Keys.RETURN)\n",
    "\n",
    "    \n",
    "    SCROLL_PAUSE_TIME = 1\n",
    "    # Get scroll height\n",
    "    # last_height = driver.execute_script(\"return document.body.scrollHeight\")  # 브라우저의 높이를 자바스크립트로 찾음\n",
    "    # while True:\n",
    "    #     # Scroll down to bottom\n",
    "    #     driver.execute_script(\"window.scrollTo(0, document.body.scrollHeight);\")  # 브라우저 끝까지 스크롤을 내림\n",
    "    #     # Wait to load page\n",
    "    #     time.sleep(SCROLL_PAUSE_TIME)\n",
    "    #     # Calculate new scroll height and compare with last scroll height\n",
    "    #     new_height = driver.execute_script(\"return document.body.scrollHeight\")\n",
    "    #     if new_height == last_height:\n",
    "    #         try:\n",
    "    #             driver.find_element(\"css_selector\", \".mye4qd\").click()\n",
    "    #         except:\n",
    "    #             break\n",
    "    #     last_height = new_height\n",
    "\n",
    "    # 스크롤 내릴 필요 있을 시 주석 해제 후 사용하면 됩니다.\n",
    "\n",
    "    imgs = driver.find_elements(By.CSS_SELECTOR,'.rg_i.Q4LuWd')\n",
    "    dir = \".\\cktl\\\\\" + name\n",
    "\n",
    "    title = driver.find_elements(By.CLASS_NAME,'bytUYc')\n",
    "    for i in title:\n",
    "        print(i.text)\n",
    "\n",
    "    createDirectory(dir) #폴더 생성\n",
    "    count = 1\n",
    "    for img in imgs:\n",
    "        try:\n",
    "            img.click()\n",
    "            time.sleep(2)\n",
    "            imgUrl = driver.find_element(By.XPATH, '//*[@id=\"Sva75c\"]/div[2]/div/div[2]/div[2]/div[2]/c-wiz/div[2]/div[1]/div[1]/div[2]/div/a/img').get_attribute(\n",
    "                \"src\")\n",
    "            path = r\"C:\\Users\\Luna\\Desktop\\data_de\\cktl\"\n",
    "            urllib.request.urlretrieve(imgUrl, dir + \"\\\\\" + str(count) + \".jpg\")\n",
    "            count = count + 1\n",
    "            if count >= 10:\n",
    "                break\n",
    "        except:\n",
    "            pass\n",
    "    driver.close()"
   ]
  },
  {
   "cell_type": "code",
   "execution_count": null,
   "metadata": {},
   "outputs": [],
   "source": [
    "crawling_img(ck_list[0])"
   ]
  },
  {
   "cell_type": "code",
   "execution_count": null,
   "metadata": {},
   "outputs": [],
   "source": []
  }
 ],
 "metadata": {
  "kernelspec": {
   "display_name": "Python 3",
   "language": "python",
   "name": "python3"
  },
  "language_info": {
   "codemirror_mode": {
    "name": "ipython",
    "version": 3
   },
   "file_extension": ".py",
   "mimetype": "text/x-python",
   "name": "python",
   "nbconvert_exporter": "python",
   "pygments_lexer": "ipython3",
   "version": "3.10.6 (tags/v3.10.6:9c7b4bd, Aug  1 2022, 21:53:49) [MSC v.1932 64 bit (AMD64)]"
  },
  "orig_nbformat": 4,
  "vscode": {
   "interpreter": {
    "hash": "d3e10ef16274dd72e574b8fa73b58450b957d8421a2901baded3cca26fcf5dda"
   }
  }
 },
 "nbformat": 4,
 "nbformat_minor": 2
}
